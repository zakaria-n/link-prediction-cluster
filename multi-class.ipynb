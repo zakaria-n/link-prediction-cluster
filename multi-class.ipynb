{
 "cells": [
  {
   "cell_type": "code",
   "execution_count": 95,
   "metadata": {},
   "outputs": [
    {
     "name": "stdout",
     "output_type": "stream",
     "text": [
      "mic: 0.8941523817917421\n",
      "mac:  0.19792743340953606\n"
     ]
    }
   ],
   "source": [
    "import numpy as np\n",
    "import pandas as pd\n",
    "from matplotlib import pyplot as plt\n",
    "from sklearn.datasets import load_breast_cancer\n",
    "from sklearn.metrics import confusion_matrix\n",
    "from sklearn.metrics import f1_score\n",
    "from sklearn.metrics import accuracy_score\n",
    "from sklearn.neighbors import KNeighborsClassifier\n",
    "from sklearn.model_selection import train_test_split\n",
    "from sklearn.neural_network import MLPClassifier\n",
    "from sklearn.neighbors import KNeighborsClassifier\n",
    "from sklearn.ensemble import StackingClassifier, RandomForestClassifier\n",
    "from sklearn.discriminant_analysis import LinearDiscriminantAnalysis\n",
    "from sklearn.discriminant_analysis import QuadraticDiscriminantAnalysis\n",
    "from sklearn.model_selection import cross_val_score\n",
    "from sklearn.multiclass import OneVsRestClassifier\n",
    "from sklearn.svm import SVC\n",
    "\n",
    "\n",
    "columns = [\"node_id\"]\n",
    "\n",
    "for i in range(128):\n",
    "    columns.append(\"dim\"+str(i+1))\n",
    "\n",
    "# embedding = np.load('embeddings/netmf_cora.out.id.npy')\n",
    "\n",
    "X = pd.read_csv('/Users/zak/Documents/GitHub/link-prediction-cluster/embeddings/netmf/blogcat.emb', delim_whitespace=True, names=columns).sort_values(by=['node_id'], ascending=True)\n",
    "X = X.set_index(\"node_id\")\n",
    "labels = pd.read_csv('/Users/zak/Documents/GitHub/Network-Representation-Learning/data/blogcat/data/group-edges.csv',\n",
    "                     sep=\",\", header=None, index_col=0)\n",
    "y = labels.sort_index()\n",
    "y.columns=[\"label\"]\n",
    "\n",
    "from collections import defaultdict\n",
    "classes = defaultdict(list)\n",
    "for index, row in y.iterrows():\n",
    "   classes[index].append(row[\"label\"])\n",
    "\n",
    "y = d = pd.DataFrame(classes.items(), columns=['node', 'labels'])\n",
    "y =  pd.concat([pd.DataFrame(y['node']), pd.DataFrame(y['labels'].to_list())], axis=1)\n",
    "y  = y.set_index(\"node\")\n",
    "y = y.fillna(0)\n",
    "\n",
    "\n",
    "X_train, X_test, y_train, y_test = train_test_split(\n",
    "    X, y, random_state=513, train_size=0.8)\n",
    "\n",
    "from sklearn.neighbors import KNeighborsClassifier\n",
    "neigh = KNeighborsClassifier(n_neighbors=10)\n",
    "neigh.fit(X_train, y_train)\n",
    "\n",
    "y_pred = neigh.predict(X_test)\n",
    "\n",
    "from sklearn.metrics import f1_score\n",
    "\n",
    "\n",
    "f_scores_mac = []\n",
    "f_scores_mic = []\n",
    "for i in range(y_test.shape[1]):\n",
    "    f_scores_mac.append(f1_score(y_test[i], y_pred[:,i], average='macro'))\n",
    "    f_scores_mic.append(f1_score(y_test[i], y_pred[:,i], average='micro'))\n",
    "\n",
    "f1_mac = np.mean(f_scores_mac)\n",
    "f1_mic = np.mean(f_scores_mic)\n",
    "\n",
    "print(\"mic:\", f1_mic)\n",
    "print(\"mac: \",f1_mac)"
   ]
  },
  {
   "cell_type": "code",
   "execution_count": null,
   "metadata": {},
   "outputs": [],
   "source": []
  }
 ],
 "metadata": {
  "interpreter": {
   "hash": "31f2aee4e71d21fbe5cf8b01ff0e069b9275f58929596ceb00d14d90e3e16cd6"
  },
  "kernelspec": {
   "display_name": "Python 3.8.2 64-bit",
   "language": "python",
   "name": "python3"
  },
  "language_info": {
   "codemirror_mode": {
    "name": "ipython",
    "version": 3
   },
   "file_extension": ".py",
   "mimetype": "text/x-python",
   "name": "python",
   "nbconvert_exporter": "python",
   "pygments_lexer": "ipython3",
   "version": "3.8.2"
  },
  "orig_nbformat": 4
 },
 "nbformat": 4,
 "nbformat_minor": 2
}
